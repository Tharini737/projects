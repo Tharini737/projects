{
  "nbformat": 4,
  "nbformat_minor": 0,
  "metadata": {
    "colab": {
      "provenance": [],
      "toc_visible": true,
      "include_colab_link": true
    },
    "kernelspec": {
      "name": "python3",
      "display_name": "Python 3"
    },
    "language_info": {
      "name": "python"
    },
    "gpuClass": "standard"
  },
  "cells": [
    {
      "cell_type": "markdown",
      "metadata": {
        "id": "view-in-github",
        "colab_type": "text"
      },
      "source": [
        "<a href=\"https://colab.research.google.com/github/Tharini737/projects/blob/master/conformer_test.ipynb\" target=\"_parent\"><img src=\"https://colab.research.google.com/assets/colab-badge.svg\" alt=\"Open In Colab\"/></a>"
      ]
    },
    {
      "cell_type": "code",
      "execution_count": null,
      "metadata": {
        "colab": {
          "base_uri": "https://localhost:8080/"
        },
        "id": "SxrQ4t49sDKV",
        "outputId": "43ec642f-c741-4c0e-ffd0-86abf87cab30"
      },
      "outputs": [
        {
          "output_type": "stream",
          "name": "stdout",
          "text": [
            "Cloning into 'conformer'...\n",
            "remote: Enumerating objects: 457, done.\u001b[K\n",
            "remote: Counting objects: 100% (34/34), done.\u001b[K\n",
            "remote: Compressing objects: 100% (30/30), done.\u001b[K\n",
            "remote: Total 457 (delta 12), reused 8 (delta 4), pack-reused 423\u001b[K\n",
            "Receiving objects: 100% (457/457), 2.88 MiB | 21.38 MiB/s, done.\n",
            "Resolving deltas: 100% (256/256), done.\n"
          ]
        }
      ],
      "source": [
        "!git clone https://github.com/sooftware/conformer.git"
      ]
    },
    {
      "cell_type": "code",
      "source": [
        "!cd /content/conformer/"
      ],
      "metadata": {
        "id": "bSMso82qsMxS"
      },
      "execution_count": null,
      "outputs": []
    },
    {
      "cell_type": "code",
      "source": [
        "!pwd"
      ],
      "metadata": {
        "colab": {
          "base_uri": "https://localhost:8080/"
        },
        "id": "VgS9SYz7si0Z",
        "outputId": "bebe4568-dad5-46dc-b833-c787be9993ea"
      },
      "execution_count": null,
      "outputs": [
        {
          "output_type": "stream",
          "name": "stdout",
          "text": [
            "/content\n"
          ]
        }
      ]
    },
    {
      "cell_type": "code",
      "source": [
        "!pip install  -e ./conformer/"
      ],
      "metadata": {
        "colab": {
          "base_uri": "https://localhost:8080/"
        },
        "id": "ptmhPYFmsSXT",
        "outputId": "cd28d394-16f0-4245-a684-230f61b97424"
      },
      "execution_count": null,
      "outputs": [
        {
          "output_type": "stream",
          "name": "stdout",
          "text": [
            "Looking in indexes: https://pypi.org/simple, https://us-python.pkg.dev/colab-wheels/public/simple/\n",
            "Obtaining file:///content/conformer\n",
            "Requirement already satisfied: torch>=1.4.0 in /usr/local/lib/python3.7/dist-packages (from conformer===latest) (1.12.1+cu113)\n",
            "Requirement already satisfied: numpy in /usr/local/lib/python3.7/dist-packages (from conformer===latest) (1.21.6)\n",
            "Requirement already satisfied: typing-extensions in /usr/local/lib/python3.7/dist-packages (from torch>=1.4.0->conformer===latest) (4.1.1)\n",
            "Installing collected packages: conformer\n",
            "  Running setup.py develop for conformer\n",
            "Successfully installed conformer-latest\n"
          ]
        }
      ]
    },
    {
      "cell_type": "code",
      "source": [
        "import torch\n",
        "import torch.nn as nn\n",
        "from conformer.conformer import Conformer\n",
        "\n",
        "batch_size, sequence_length, dim = 3, 12345, 80\n",
        "\n",
        "cuda = torch.cuda.is_available()  \n",
        "device = torch.device('cuda' if cuda else 'cpu')\n",
        "\n",
        "criterion = nn.CTCLoss().to(device)\n",
        "\n",
        "inputs = torch.rand(batch_size, sequence_length, dim).to(device)\n",
        "input_lengths = torch.LongTensor([12345, 12300,1000])\n",
        "\n",
        "targets = torch.LongTensor([[1, 3, 3, 3, 3, 3, 4, 5, 6, 2],\n",
        "                            [1, 3, 3, 3, 3, 3, 4, 5, 2, 0],\n",
        "                            [1, 3, 3, 3, 3, 3, 4, 2, 0, 0]]).to(device)\n",
        "target_lengths = torch.LongTensor([9, 8, 7])\n"
      ],
      "metadata": {
        "id": "FbkQQn7rsWOl"
      },
      "execution_count": null,
      "outputs": []
    },
    {
      "cell_type": "markdown",
      "source": [],
      "metadata": {
        "id": "2AjwOZJ2BuVG"
      }
    },
    {
      "cell_type": "code",
      "source": [
        "model = Conformer(num_classes=10, \n",
        "                  input_dim=dim, \n",
        "                  encoder_dim=32, \n",
        "                  num_encoder_layers=3).to(device)\n",
        "\n",
        "# Forward propagate\n",
        "outputs, output_lengths = model(inputs, input_lengths)\n",
        "\n",
        "# Calculate CTC Loss\n",
        "loss = criterion(outputs.transpose(0, 1), targets, output_lengths, target_lengths)"
      ],
      "metadata": {
        "id": "aErTBVMQtB6i"
      },
      "execution_count": null,
      "outputs": []
    },
    {
      "cell_type": "code",
      "source": [
        "print(outputs.shape, outputs.transpose(0,1).shape,output_lengths.shape, target_lengths.shape)"
      ],
      "metadata": {
        "colab": {
          "base_uri": "https://localhost:8080/"
        },
        "id": "6vrU3TW9u-aC",
        "outputId": "a1380654-af8d-4dc7-9892-3583c001428e"
      },
      "execution_count": null,
      "outputs": [
        {
          "output_type": "stream",
          "name": "stdout",
          "text": [
            "torch.Size([3, 3085, 10]) torch.Size([3085, 3, 10]) torch.Size([3]) torch.Size([3])\n"
          ]
        }
      ]
    },
    {
      "cell_type": "code",
      "source": [
        "print(outputs)"
      ],
      "metadata": {
        "colab": {
          "base_uri": "https://localhost:8080/"
        },
        "id": "5bpXFPtFwR0s",
        "outputId": "4aba6c1b-7973-4a3b-aaa8-a2c7751f2674"
      },
      "execution_count": null,
      "outputs": [
        {
          "output_type": "stream",
          "name": "stdout",
          "text": [
            "tensor([[[-3.9343, -1.1593, -2.6450,  ..., -4.0512, -2.0943, -4.5687],\n",
            "         [-3.4203, -1.6311, -2.5078,  ..., -3.2894, -2.9125, -4.2375],\n",
            "         [-3.9996, -0.9065, -2.5113,  ..., -2.2303, -2.6894, -3.8892],\n",
            "         ...,\n",
            "         [-2.0930, -2.5510, -3.1367,  ..., -1.6928, -3.4459, -2.6721],\n",
            "         [-3.0943, -2.3495, -3.7359,  ..., -1.7334, -4.4423, -2.1111],\n",
            "         [-2.5184, -2.1186, -3.0938,  ..., -1.7797, -3.4924, -2.5116]],\n",
            "\n",
            "        [[-3.5571, -1.5678, -2.4107,  ..., -3.3190, -2.9047, -3.8907],\n",
            "         [-3.0705, -1.9838, -2.1659,  ..., -2.7634, -2.8879, -2.8979],\n",
            "         [-3.5565, -1.5389, -1.6076,  ..., -2.1244, -2.9915, -4.2800],\n",
            "         ...,\n",
            "         [-3.3958, -1.2155, -3.0456,  ..., -1.4087, -3.8165, -3.0483],\n",
            "         [-2.9236, -1.0875, -3.6641,  ..., -1.8405, -3.5033, -3.1984],\n",
            "         [-1.7861, -1.0118, -2.8049,  ..., -3.1219, -2.7466, -3.7442]],\n",
            "\n",
            "        [[-4.2012, -1.3934, -1.9568,  ..., -2.4689, -2.2525, -4.3206],\n",
            "         [-3.9478, -1.0753, -1.8750,  ..., -2.9132, -2.6131, -3.1832],\n",
            "         [-3.9965, -1.2530, -1.9168,  ..., -2.7739, -3.0154, -3.4914],\n",
            "         ...,\n",
            "         [-3.3734, -1.8455, -2.1421,  ..., -2.2252, -3.2551, -2.1429],\n",
            "         [-2.6555, -2.2231, -4.1387,  ..., -1.4886, -3.6280, -2.5704],\n",
            "         [-2.8487, -2.0533, -4.0241,  ..., -1.4186, -3.7783, -3.5229]]],\n",
            "       grad_fn=<LogSoftmaxBackward0>)\n"
          ]
        }
      ]
    },
    {
      "cell_type": "code",
      "source": [
        "print(output_lengths, target_lengths)"
      ],
      "metadata": {
        "colab": {
          "base_uri": "https://localhost:8080/"
        },
        "id": "HihTTqm6xEby",
        "outputId": "46a5a6cd-c64a-4c6e-abd4-bd4378706cc2"
      },
      "execution_count": null,
      "outputs": [
        {
          "output_type": "stream",
          "name": "stdout",
          "text": [
            "tensor([3085, 3074,  249]) tensor([9, 8, 7])\n"
          ]
        }
      ]
    },
    {
      "cell_type": "code",
      "source": [
        "from torch.utils.data import DataLoader, Dataset\n",
        "import numpy as np\n",
        "class TimeSeriesDataset(Dataset):\n",
        "    r\"\"\"Pytorch Dataset object\n",
        "    Args:\n",
        "        Dataset (torch.utils.data.Dataset): Pyptorch dataset object\n",
        "    \"\"\"\n",
        "\n",
        "    def __init__(\n",
        "        self,\n",
        "        data,\n",
        "    ):\n",
        "        self.data = data\n",
        "\n",
        "    def __getitem__(self, index):\n",
        "        data = self.data[index]    \n",
        "        return data, \n",
        "\n",
        "    def __len__(self):\n",
        "        return len(self.data)"
      ],
      "metadata": {
        "id": "xMipBpqexIqP"
      },
      "execution_count": null,
      "outputs": []
    },
    {
      "cell_type": "code",
      "source": [
        "def sliding_windows(data, target, seq_length):\n",
        "    x = []\n",
        "    y = []\n",
        "    for i in range(len(data)-seq_length):\n",
        "        _x = data[i:(i+seq_length)]\n",
        "        _y = target[i]\n",
        "        x.append(_x)\n",
        "        y.append(_y)\n",
        "    return np.array(x), np.array(y)\n"
      ],
      "metadata": {
        "id": "U7poq-bU3KZf"
      },
      "execution_count": null,
      "outputs": []
    },
    {
      "cell_type": "code",
      "source": [
        "input_len = 10\n",
        "input_dim = 2\n",
        "data = np.random.randn(input_len,input_dim) # Some random data (1, timesteps) or ( timesteps, 1)\n",
        "target = np.array([0,1,2,3,4,5,6,7,8,9])"
      ],
      "metadata": {
        "id": "fw_MOrcq3KcC"
      },
      "execution_count": null,
      "outputs": []
    },
    {
      "cell_type": "code",
      "source": [
        "data.shape"
      ],
      "metadata": {
        "colab": {
          "base_uri": "https://localhost:8080/"
        },
        "id": "gLZUXaRA6yNs",
        "outputId": "f875714f-8004-439c-c7b4-18eb3442a214"
      },
      "execution_count": null,
      "outputs": [
        {
          "output_type": "execute_result",
          "data": {
            "text/plain": [
              "(10, 2)"
            ]
          },
          "metadata": {},
          "execution_count": 30
        }
      ]
    },
    {
      "cell_type": "code",
      "source": [
        "data, target = sliding_windows(data = data,target=target, seq_length = 2)"
      ],
      "metadata": {
        "id": "CdYFNMFn652W"
      },
      "execution_count": null,
      "outputs": []
    },
    {
      "cell_type": "code",
      "source": [
        "data.shape # (number_of_sequences/total number of batches, sequence length, input_dim)"
      ],
      "metadata": {
        "colab": {
          "base_uri": "https://localhost:8080/"
        },
        "id": "r48UXaVN68pz",
        "outputId": "2ddcb679-b050-4a02-8ef9-cf77ad9209d4"
      },
      "execution_count": null,
      "outputs": [
        {
          "output_type": "execute_result",
          "data": {
            "text/plain": [
              "(8, 2, 2)"
            ]
          },
          "metadata": {},
          "execution_count": 32
        }
      ]
    },
    {
      "cell_type": "code",
      "source": [
        "target.shape"
      ],
      "metadata": {
        "colab": {
          "base_uri": "https://localhost:8080/"
        },
        "id": "ZK21oqK1K3SR",
        "outputId": "6b64c7a6-435f-4105-e236-13acb9adcb1d"
      },
      "execution_count": null,
      "outputs": [
        {
          "output_type": "execute_result",
          "data": {
            "text/plain": [
              "(8,)"
            ]
          },
          "metadata": {},
          "execution_count": 33
        }
      ]
    },
    {
      "cell_type": "code",
      "source": [
        "from torch.utils.data import DataLoader\n",
        "\n",
        "dataloader = DataLoader(dataset = data,batch_size= 16)\n",
        "i = 0\n",
        "for z in dataloader:\n",
        "    print(z.shape)\n",
        "    i+=1\n",
        "    print(i)"
      ],
      "metadata": {
        "colab": {
          "base_uri": "https://localhost:8080/"
        },
        "id": "sQf5najA6-R7",
        "outputId": "f52f8aed-2a9b-4e6c-e26c-5fc80e937c23"
      },
      "execution_count": null,
      "outputs": [
        {
          "output_type": "stream",
          "name": "stdout",
          "text": [
            "torch.Size([16, 10, 5])\n",
            "1\n",
            "torch.Size([16, 10, 5])\n",
            "2\n",
            "torch.Size([16, 10, 5])\n",
            "3\n",
            "torch.Size([16, 10, 5])\n",
            "4\n",
            "torch.Size([16, 10, 5])\n",
            "5\n",
            "torch.Size([16, 10, 5])\n",
            "6\n",
            "torch.Size([16, 10, 5])\n",
            "7\n",
            "torch.Size([16, 10, 5])\n",
            "8\n",
            "torch.Size([16, 10, 5])\n",
            "9\n",
            "torch.Size([16, 10, 5])\n",
            "10\n",
            "torch.Size([16, 10, 5])\n",
            "11\n",
            "torch.Size([16, 10, 5])\n",
            "12\n",
            "torch.Size([16, 10, 5])\n",
            "13\n",
            "torch.Size([16, 10, 5])\n",
            "14\n",
            "torch.Size([16, 10, 5])\n",
            "15\n",
            "torch.Size([16, 10, 5])\n",
            "16\n",
            "torch.Size([16, 10, 5])\n",
            "17\n",
            "torch.Size([16, 10, 5])\n",
            "18\n",
            "torch.Size([16, 10, 5])\n",
            "19\n",
            "torch.Size([16, 10, 5])\n",
            "20\n",
            "torch.Size([16, 10, 5])\n",
            "21\n",
            "torch.Size([16, 10, 5])\n",
            "22\n",
            "torch.Size([16, 10, 5])\n",
            "23\n",
            "torch.Size([16, 10, 5])\n",
            "24\n",
            "torch.Size([16, 10, 5])\n",
            "25\n",
            "torch.Size([16, 10, 5])\n",
            "26\n",
            "torch.Size([16, 10, 5])\n",
            "27\n",
            "torch.Size([16, 10, 5])\n",
            "28\n",
            "torch.Size([16, 10, 5])\n",
            "29\n",
            "torch.Size([16, 10, 5])\n",
            "30\n",
            "torch.Size([16, 10, 5])\n",
            "31\n",
            "torch.Size([16, 10, 5])\n",
            "32\n",
            "torch.Size([16, 10, 5])\n",
            "33\n",
            "torch.Size([16, 10, 5])\n",
            "34\n",
            "torch.Size([16, 10, 5])\n",
            "35\n",
            "torch.Size([16, 10, 5])\n",
            "36\n",
            "torch.Size([16, 10, 5])\n",
            "37\n",
            "torch.Size([16, 10, 5])\n",
            "38\n",
            "torch.Size([16, 10, 5])\n",
            "39\n",
            "torch.Size([16, 10, 5])\n",
            "40\n",
            "torch.Size([16, 10, 5])\n",
            "41\n",
            "torch.Size([16, 10, 5])\n",
            "42\n",
            "torch.Size([16, 10, 5])\n",
            "43\n",
            "torch.Size([16, 10, 5])\n",
            "44\n",
            "torch.Size([16, 10, 5])\n",
            "45\n",
            "torch.Size([16, 10, 5])\n",
            "46\n",
            "torch.Size([16, 10, 5])\n",
            "47\n",
            "torch.Size([16, 10, 5])\n",
            "48\n",
            "torch.Size([16, 10, 5])\n",
            "49\n",
            "torch.Size([16, 10, 5])\n",
            "50\n",
            "torch.Size([16, 10, 5])\n",
            "51\n",
            "torch.Size([16, 10, 5])\n",
            "52\n",
            "torch.Size([16, 10, 5])\n",
            "53\n",
            "torch.Size([16, 10, 5])\n",
            "54\n",
            "torch.Size([16, 10, 5])\n",
            "55\n",
            "torch.Size([16, 10, 5])\n",
            "56\n",
            "torch.Size([16, 10, 5])\n",
            "57\n",
            "torch.Size([16, 10, 5])\n",
            "58\n",
            "torch.Size([16, 10, 5])\n",
            "59\n",
            "torch.Size([16, 10, 5])\n",
            "60\n",
            "torch.Size([16, 10, 5])\n",
            "61\n",
            "torch.Size([14, 10, 5])\n",
            "62\n"
          ]
        }
      ]
    },
    {
      "cell_type": "code",
      "source": [
        "next(iter(dataloader)).shape"
      ],
      "metadata": {
        "colab": {
          "base_uri": "https://localhost:8080/"
        },
        "id": "2kbjPAGrIkcR",
        "outputId": "869a91f9-b29e-4406-f338-080d5dfdd5c2"
      },
      "execution_count": null,
      "outputs": [
        {
          "output_type": "execute_result",
          "data": {
            "text/plain": [
              "torch.Size([16, 10, 5])"
            ]
          },
          "metadata": {},
          "execution_count": 20
        }
      ]
    },
    {
      "cell_type": "code",
      "source": [],
      "metadata": {
        "id": "OlJSaF9RIx3d"
      },
      "execution_count": null,
      "outputs": []
    }
  ]
}